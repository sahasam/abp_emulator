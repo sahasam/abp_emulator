{
 "cells": [
  {
   "cell_type": "code",
   "execution_count": 1,
   "metadata": {},
   "outputs": [],
   "source": [
    "from abp_mock import ABPMock\n",
    "import time\n",
    "import random"
   ]
  },
  {
   "cell_type": "code",
   "execution_count": 2,
   "metadata": {},
   "outputs": [],
   "source": [
    "# start the simulation in background thread\n",
    "# if you want to change simulation constants see abp_mock.py and change values at top\n",
    "\n",
    "# The thread will keep running in the background of this notebook. If you want to kill it, the kill() method doesn't\n",
    "# work properly in a notebook from my testing. Just kill the python kernel if it is getting too slow. Sorry\n",
    "mock = ABPMock()\n"
   ]
  },
  {
   "cell_type": "code",
   "execution_count": 6,
   "metadata": {},
   "outputs": [
    {
     "name": "stdout",
     "output_type": "stream",
     "text": [
      "80475\n",
      "(4073018, {'bob.event_counter': 27152, 'bob.data_register': 80643, 'alice.event_counter': 27153, 'alice.data_register': 80643})\n",
      "(4097177, {'bob.event_counter': 27313, 'bob.data_register': 80804, 'alice.event_counter': 27314, 'alice.data_register': 80804})\n",
      "(4121405, {'bob.event_counter': 27475, 'bob.data_register': 80966, 'alice.event_counter': 27476, 'alice.data_register': 80966})\n",
      "(4170929, {'bob.event_counter': 27805, 'bob.data_register': 81296, 'alice.event_counter': 27806, 'alice.data_register': 81296})\n",
      "(4261961, {'bob.event_counter': 28412, 'bob.data_register': 81903, 'alice.event_counter': 28413, 'alice.data_register': 81903})\n",
      "(4301900, {'bob.event_counter': 28678, 'bob.data_register': 82169, 'alice.event_counter': 28679, 'alice.data_register': 82169})\n",
      "(4338181, {'bob.event_counter': 28920, 'bob.data_register': 82411, 'alice.event_counter': 28921, 'alice.data_register': 82411})\n",
      "(4361864, {'bob.event_counter': 29078, 'bob.data_register': 82569, 'alice.event_counter': 29079, 'alice.data_register': 82569})\n",
      "(4383661, {'bob.event_counter': 29223, 'bob.data_register': 82714, 'alice.event_counter': 29224, 'alice.data_register': 82714})\n",
      "(4416328, {'bob.event_counter': 29441, 'bob.data_register': 82932, 'alice.event_counter': 29442, 'alice.data_register': 82932})\n"
     ]
    }
   ],
   "source": [
    "# Poll for most recent data\n",
    "# first value: tick value of simulation\n",
    "# second value: sim state\n",
    "number = random.randint(0,100000)\n",
    "print(number)\n",
    "mock.set_data_register(number) # set alice(sender) data register to a value to count from\n",
    "time.sleep(0.1)\n",
    "for _ in range(10):\n",
    "    print(mock.poll_state())\n",
    "    time.sleep(0.1)"
   ]
  }
 ],
 "metadata": {
  "kernelspec": {
   "display_name": "env",
   "language": "python",
   "name": "python3"
  },
  "language_info": {
   "codemirror_mode": {
    "name": "ipython",
    "version": 3
   },
   "file_extension": ".py",
   "mimetype": "text/x-python",
   "name": "python",
   "nbconvert_exporter": "python",
   "pygments_lexer": "ipython3",
   "version": "3.10.12"
  }
 },
 "nbformat": 4,
 "nbformat_minor": 2
}
